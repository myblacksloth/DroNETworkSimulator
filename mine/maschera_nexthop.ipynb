{
  "nbformat": 4,
  "nbformat_minor": 0,
  "metadata": {
    "colab": {
      "provenance": []
    },
    "kernelspec": {
      "name": "python3",
      "display_name": "Python 3"
    },
    "language_info": {
      "name": "python"
    }
  },
  "cells": [
    {
      "cell_type": "markdown",
      "source": [
        "# Rappresentazione basilare di come avviene la selezione dell'hop successivo\n",
        "\n",
        "I nomi delel variabili corrispondono il piu' possibile alla realta'"
      ],
      "metadata": {
        "id": "cT1SV5fjszkb"
      }
    },
    {
      "cell_type": "markdown",
      "source": [
        "## librerie"
      ],
      "metadata": {
        "id": "N1ZBG3J4sxk9"
      }
    },
    {
      "cell_type": "code",
      "execution_count": 38,
      "metadata": {
        "id": "qBdns-EprFxe"
      },
      "outputs": [],
      "source": [
        "import numpy as np"
      ]
    },
    {
      "cell_type": "markdown",
      "source": [
        "## bozza di simulazione con tutte le informazioni che servono per la selezione dell'hop"
      ],
      "metadata": {
        "id": "K3s4EU6ysiYs"
      }
    },
    {
      "cell_type": "code",
      "source": [
        "ndrones = 10\n",
        "opt_neighbors = [(1, 0), (2, 3), (4, 5)] # (id hello packet, id drone che ha genrerato hello packet)"
      ],
      "metadata": {
        "id": "VrGtSKN5rI5W"
      },
      "execution_count": 39,
      "outputs": []
    },
    {
      "cell_type": "markdown",
      "source": [
        "id dei vicini"
      ],
      "metadata": {
        "id": "ABfv_FMvsjqc"
      }
    },
    {
      "cell_type": "code",
      "source": [
        "vicini = [helloPacket[1] for helloPacket in opt_neighbors]"
      ],
      "metadata": {
        "id": "5fMo8xh9vD_1"
      },
      "execution_count": 40,
      "outputs": []
    },
    {
      "cell_type": "code",
      "source": [
        "vicini_ID = vicini # perche' e' piu' semplice simulare il funzionamento astratto"
      ],
      "metadata": {
        "id": "enOL9lVssF9a"
      },
      "execution_count": 41,
      "outputs": []
    },
    {
      "cell_type": "markdown",
      "source": [
        "determino altri parametri per la simulazione"
      ],
      "metadata": {
        "id": "Ug3q-RVdtsb1"
      }
    },
    {
      "cell_type": "code",
      "source": [
        "k_weight = np.random.rand(len(vicini_ID)) # calcolo i valori in modo random\n",
        "k_weight"
      ],
      "metadata": {
        "colab": {
          "base_uri": "https://localhost:8080/"
        },
        "id": "39TB094HtoWi",
        "outputId": "c57c3c96-43c8-4787-c2a1-000cc3da40f2"
      },
      "execution_count": 42,
      "outputs": [
        {
          "output_type": "execute_result",
          "data": {
            "text/plain": [
              "array([0.63096156, 0.51467101, 0.03546624])"
            ]
          },
          "metadata": {},
          "execution_count": 42
        }
      ]
    },
    {
      "cell_type": "code",
      "source": [
        "velocita_attuali = np.random.rand(len(vicini_ID))\n",
        "velocita_attuali"
      ],
      "metadata": {
        "colab": {
          "base_uri": "https://localhost:8080/"
        },
        "id": "_QgfGKR9t55Q",
        "outputId": "200a8b8b-14d3-4174-f45b-49cebae45c8a"
      },
      "execution_count": 43,
      "outputs": [
        {
          "output_type": "execute_result",
          "data": {
            "text/plain": [
              "array([0.14310094, 0.89028414, 0.23524848])"
            ]
          },
          "metadata": {},
          "execution_count": 43
        }
      ]
    },
    {
      "cell_type": "code",
      "source": [
        "all_requested_velocities = np.random.rand(len(vicini_ID))\n",
        "all_requested_velocities"
      ],
      "metadata": {
        "colab": {
          "base_uri": "https://localhost:8080/"
        },
        "id": "U_qPWWIFt7rK",
        "outputId": "1167366e-a932-4be4-a49b-6fa1cf35c009"
      },
      "execution_count": 44,
      "outputs": [
        {
          "output_type": "execute_result",
          "data": {
            "text/plain": [
              "array([0.21346738, 0.81509485, 0.89126942])"
            ]
          },
          "metadata": {},
          "execution_count": 44
        }
      ]
    },
    {
      "cell_type": "markdown",
      "source": [
        "genero qtable"
      ],
      "metadata": {
        "id": "9wvYLZ9tsnD6"
      }
    },
    {
      "cell_type": "code",
      "source": [
        "qtable = np.random.rand(ndrones)\n",
        "qtable"
      ],
      "metadata": {
        "colab": {
          "base_uri": "https://localhost:8080/"
        },
        "id": "_C_QVH3krnmq",
        "outputId": "d890e300-1ca3-4314-d981-23bdb16e1044"
      },
      "execution_count": 45,
      "outputs": [
        {
          "output_type": "execute_result",
          "data": {
            "text/plain": [
              "array([0.94148555, 0.91869866, 0.6036175 , 0.62986327, 0.16151643,\n",
              "       0.01003478, 0.29167588, 0.54380914, 0.75203415, 0.44332896])"
            ]
          },
          "metadata": {},
          "execution_count": 45
        }
      ]
    },
    {
      "cell_type": "markdown",
      "source": [
        "\n",
        "\n",
        "---\n",
        "\n",
        "# avvio il meccanismo di selezione"
      ],
      "metadata": {
        "id": "OdN8eh44twAo"
      }
    },
    {
      "cell_type": "markdown",
      "source": [
        "effettuo selezione sulla qtable"
      ],
      "metadata": {
        "id": "X68GFpmMsoc-"
      }
    },
    {
      "cell_type": "code",
      "source": [
        "q_table_selection = qtable[vicini_ID]\n",
        "q_table_selection"
      ],
      "metadata": {
        "colab": {
          "base_uri": "https://localhost:8080/"
        },
        "id": "VNwukGrfr44u",
        "outputId": "b4735540-8d89-431b-9421-f7c565853b27"
      },
      "execution_count": 46,
      "outputs": [
        {
          "output_type": "execute_result",
          "data": {
            "text/plain": [
              "array([0.94148555, 0.62986327, 0.01003478])"
            ]
          },
          "metadata": {},
          "execution_count": 46
        }
      ]
    },
    {
      "cell_type": "markdown",
      "source": [
        "ottengo i qvalue pesati"
      ],
      "metadata": {
        "id": "eCnNNbO9s9bf"
      }
    },
    {
      "cell_type": "code",
      "source": [
        "q_value_pesati = np.multiply(q_table_selection, k_weight)\n",
        "q_value_pesati"
      ],
      "metadata": {
        "colab": {
          "base_uri": "https://localhost:8080/"
        },
        "id": "zIuUWJeBtM1r",
        "outputId": "e35c1050-6e5a-4f0d-8681-b4ae718290c0"
      },
      "execution_count": 47,
      "outputs": [
        {
          "output_type": "execute_result",
          "data": {
            "text/plain": [
              "array([5.94041190e-01, 3.24172368e-01, 3.55895818e-04])"
            ]
          },
          "metadata": {},
          "execution_count": 47
        }
      ]
    },
    {
      "cell_type": "markdown",
      "source": [
        "determino quali sono gli hop selezionabili"
      ],
      "metadata": {
        "id": "Zu3w3ExmuC7U"
      }
    },
    {
      "cell_type": "code",
      "source": [
        "hop_selezionabili = np.where(velocita_attuali >= all_requested_velocities)[0] # ottieni indici\n",
        "hop_selezionabili"
      ],
      "metadata": {
        "colab": {
          "base_uri": "https://localhost:8080/"
        },
        "id": "1aJvjw2KuEwK",
        "outputId": "7e057ce4-d123-4b7e-8f3d-e9b06f6f9a45"
      },
      "execution_count": 48,
      "outputs": [
        {
          "output_type": "execute_result",
          "data": {
            "text/plain": [
              "array([1])"
            ]
          },
          "metadata": {},
          "execution_count": 48
        }
      ]
    },
    {
      "cell_type": "code",
      "source": [
        "hop_candidati = np.asarray(vicini_ID)[hop_selezionabili] # seleziona elementi che si trovano negli indici selezionati\n",
        "hop_candidati"
      ],
      "metadata": {
        "colab": {
          "base_uri": "https://localhost:8080/"
        },
        "id": "fWy_vi0SuPrn",
        "outputId": "5dbd6839-0fa6-463a-fa57-6b79cb6cd96e"
      },
      "execution_count": 49,
      "outputs": [
        {
          "output_type": "execute_result",
          "data": {
            "text/plain": [
              "array([3])"
            ]
          },
          "metadata": {},
          "execution_count": 49
        }
      ]
    },
    {
      "cell_type": "markdown",
      "source": [
        "maschera"
      ],
      "metadata": {
        "id": "ss6PHMRLuV1a"
      }
    },
    {
      "cell_type": "code",
      "source": [
        "maschera = np.ones(shape=(len(vicini_ID)), dtype = bool) # crea maschera di tutti true\n",
        "maschera"
      ],
      "metadata": {
        "colab": {
          "base_uri": "https://localhost:8080/"
        },
        "id": "qWTfTnzcuWpO",
        "outputId": "157ae1fe-488a-4448-9ced-990e3b992e47"
      },
      "execution_count": 50,
      "outputs": [
        {
          "output_type": "execute_result",
          "data": {
            "text/plain": [
              "array([ True,  True,  True])"
            ]
          },
          "metadata": {},
          "execution_count": 50
        }
      ]
    },
    {
      "cell_type": "code",
      "source": [
        "maschera[hop_selezionabili] = False # false per gli elementi che voglio ottenere mediante la maschera\n",
        "maschera"
      ],
      "metadata": {
        "colab": {
          "base_uri": "https://localhost:8080/"
        },
        "id": "OKt3WCS0uj9J",
        "outputId": "0dfbed75-a95c-4f1b-8d5c-5c678e6a1a72"
      },
      "execution_count": 51,
      "outputs": [
        {
          "output_type": "execute_result",
          "data": {
            "text/plain": [
              "array([ True, False,  True])"
            ]
          },
          "metadata": {},
          "execution_count": 51
        }
      ]
    },
    {
      "cell_type": "markdown",
      "source": [
        "applica la maschera ai qvalue"
      ],
      "metadata": {
        "id": "JTMRvXokuo9y"
      }
    },
    {
      "cell_type": "code",
      "source": [
        "q_value_mascherati = np.ma.masked_array(q_value_pesati, maschera) # ottieni elemnti applicando la maschera\n",
        "q_value_mascherati"
      ],
      "metadata": {
        "colab": {
          "base_uri": "https://localhost:8080/"
        },
        "id": "2nfj8mkTuocg",
        "outputId": "267c179c-ce5e-45f7-e631-6cf2c560b25b"
      },
      "execution_count": 52,
      "outputs": [
        {
          "output_type": "execute_result",
          "data": {
            "text/plain": [
              "masked_array(data=[--, 0.32417236793059523, --],\n",
              "             mask=[ True, False,  True],\n",
              "       fill_value=1e+20)"
            ]
          },
          "metadata": {},
          "execution_count": 52
        }
      ]
    },
    {
      "cell_type": "markdown",
      "source": [
        "seleziona hop"
      ],
      "metadata": {
        "id": "aOh4_lcYuyL4"
      }
    },
    {
      "cell_type": "code",
      "source": [
        "hop_selezionato_indice = np.argmax(q_value_mascherati) # ottnei hop successivo\n",
        "hop_selezionato_indice"
      ],
      "metadata": {
        "colab": {
          "base_uri": "https://localhost:8080/"
        },
        "id": "ImBp_RbhuziA",
        "outputId": "56b3be8f-450a-438f-e109-1d825ba1a253"
      },
      "execution_count": 53,
      "outputs": [
        {
          "output_type": "execute_result",
          "data": {
            "text/plain": [
              "1"
            ]
          },
          "metadata": {},
          "execution_count": 53
        }
      ]
    },
    {
      "cell_type": "code",
      "source": [
        "hop_selezionato_valore = np.max(q_value_mascherati)\n",
        "hop_selezionato_valore"
      ],
      "metadata": {
        "colab": {
          "base_uri": "https://localhost:8080/"
        },
        "id": "wJpyj5Q2u1kL",
        "outputId": "4fe6bc00-0969-489c-de5f-9956965ce52e"
      },
      "execution_count": 54,
      "outputs": [
        {
          "output_type": "execute_result",
          "data": {
            "text/plain": [
              "0.32417236793059523"
            ]
          },
          "metadata": {},
          "execution_count": 54
        }
      ]
    },
    {
      "cell_type": "code",
      "source": [
        "hop_selezionato = vicini[hop_selezionato_indice]\n",
        "hop_selezionato"
      ],
      "metadata": {
        "colab": {
          "base_uri": "https://localhost:8080/"
        },
        "id": "i-zJuG4Nu5hx",
        "outputId": "c02fb368-0427-461b-beb0-c68dde7d15f0"
      },
      "execution_count": 55,
      "outputs": [
        {
          "output_type": "execute_result",
          "data": {
            "text/plain": [
              "3"
            ]
          },
          "metadata": {},
          "execution_count": 55
        }
      ]
    }
  ]
}